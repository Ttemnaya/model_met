{
  "cells": [
    {
      "cell_type": "markdown",
      "metadata": {
        "id": "view-in-github",
        "colab_type": "text"
      },
      "source": [
        "<a href=\"https://colab.research.google.com/gist/Ttemnaya/1f4617804c68f1dc542e9b6933c3d7ab/-_-_-_-_-_ipynb_.ipynb\" target=\"_parent\"><img src=\"https://colab.research.google.com/assets/colab-badge.svg\" alt=\"Open In Colab\"/></a>"
      ]
    },
    {
      "cell_type": "markdown",
      "source": [
        "В ЭТОМ ФАЙЛЕ НАХОДИТСЯ:\n",
        "1. БУСТИНГ ПАРАМЕТРОВ: МЕДЬ, АЛЮМИНИЙ, БИМ, ММВ, ВОЗМОЖНО - НЕФТЬ\n",
        "2. ЗАПОЛНЕННАЯ ТАБЛИЦА ПРОГНОЗОВ ВСЕХ ПАРАМЕТРОВ.\n",
        "\n",
        "ЗДЕСЬ НЕТ ПРОГНОЗА НА КОБАЛЬТ, МОЛИБДЕН И НИКЕЛЬ! У НИХ ЕСТЬ СОБСТВЕННЫЕ ФАЙЛЫ!"
      ],
      "metadata": {
        "id": "LZC3CunOq_J6"
      }
    },
    {
      "cell_type": "markdown",
      "metadata": {
        "id": "I1a20FndCfdv"
      },
      "source": [
        "БИБЛИОТЕКИ"
      ]
    },
    {
      "cell_type": "code",
      "source": [
        "from getpass import getpass\n",
        "import os os.environ['Ttemnaya'] = getpass('Ttemnaya:') os.environ['GITHUB_TOKEN'] = getpass('GitHub token:')"
      ],
      "metadata": {
        "id": "42w95_vdmg3S"
      },
      "execution_count": null,
      "outputs": []
    },
    {
      "cell_type": "code",
      "execution_count": null,
      "metadata": {
        "id": "0p_L57baCikr"
      },
      "outputs": [],
      "source": [
        "import pandas as pd\n",
        "import numpy as np\n",
        "import matplotlib.pyplot as plt\n",
        "from pandas import read_csv, DataFrame\n",
        "import statsmodels.api as sm\n",
        "import seaborn as sb\n",
        "from statsmodels.iolib.table import SimpleTable\n",
        "from sklearn.metrics import r2_score\n",
        "from matplotlib import pyplot\n",
        "pd.options.display.float_format ='{:,.3f}'.format\n",
        "from lightgbm import LGBMRegressor\n",
        "from sklearn.ensemble import RandomForestClassifier\n",
        "from sklearn.model_selection import GridSearchCV\n",
        "import warnings\n",
        "from statsmodels.tsa.stattools import adfuller\n",
        "from statsmodels.tsa.arima_model import ARIMA\n",
        "from statsmodels.graphics.tsaplots import plot_predict\n",
        "warnings.filterwarnings(\"ignore\")\n",
        "from sklearn.tree import DecisionTreeRegressor\n",
        "from sklearn.ensemble import GradientBoostingRegressor\n",
        "from sklearn.model_selection import train_test_split\n",
        "import seaborn as sns\n",
        "from sklearn.metrics import mean_squared_error, mean_absolute_error, r2_score, mean_squared_log_error"
      ]
    },
    {
      "cell_type": "markdown",
      "metadata": {
        "id": "bq8YGEyhXJ7L"
      },
      "source": [
        "ДОПОЛНИТЕЛЬНЫЕ ФУНКЦИИ"
      ]
    },
    {
      "cell_type": "code",
      "execution_count": null,
      "metadata": {
        "id": "iCYftPoCXA42"
      },
      "outputs": [],
      "source": [
        "def my_result(y_test, y_pred, title):\n",
        "  # Оценка качества модели на тестовой выборке\n",
        "  print(f\"R^2 score: {r2_score(y_test, y_pred)}\")\n",
        "\n",
        "  # Расчет MSE и RMSE на тестовой выборке\n",
        "  print(\"MSE на тестовой выборке:\", mean_squared_error(y_test, y_pred))\n",
        "  print(\"RMSE на тестовой выборке:\", mean_squared_error(y_test, y_pred, squared=False))\n",
        "\n",
        "  # визуализация прогноза модели\n",
        "  plt.scatter(y_test, y_pred)\n",
        "  plt.plot([0, y_test.max()], [0, y_pred.max()], 'k--', lw=2)\n",
        "  plt.ylabel('Реальные значения')\n",
        "  plt.xlabel('Предсказанные значения')\n",
        "  plt.title(title)\n",
        "  plt.show()"
      ]
    },
    {
      "cell_type": "code",
      "execution_count": null,
      "metadata": {
        "id": "bSMepuSyXTWg"
      },
      "outputs": [],
      "source": [
        "def find_best_params(X_train, y_train, random_seed):\n",
        "  # задаем параметры для поиска по сетке\n",
        "  param_grid = {'learning_rate': [0.05, 0.1, 0.15, 0.2, 0.25, 0.3, 0.35],\n",
        "              'max_depth': [2, 3, 4],\n",
        "              'n_estimators': list(range(10, 200, 10)),\n",
        "              'random_state' : [random_seed]}\n",
        "  # создаем модель\n",
        "  gb_model = GradientBoostingRegressor()\n",
        "\n",
        "  # создаем объект GridSearchCV для поиска по сетке\n",
        "  grid_search = GridSearchCV(gb_model, param_grid, cv=5)\n",
        "\n",
        "  # обучаем модель\n",
        "  grid_search.fit(X_train, y_train)\n",
        "\n",
        "  return grid_search.best_params_"
      ]
    },
    {
      "cell_type": "markdown",
      "source": [
        "Полная таблица"
      ],
      "metadata": {
        "id": "3RD1ssxmp7Gl"
      }
    },
    {
      "cell_type": "code",
      "source": [
        "POLN=pd.read_excel('poln_param_bust.xlsx')\n",
        "POLN['DATA'] = pd.to_datetime(POLN['DATA']).astype(int) // 10**9\n",
        "POLN['DATA_log'] = np.log(POLN['DATA'])\n",
        "\n",
        "POLN"
      ],
      "metadata": {
        "colab": {
          "base_uri": "https://localhost:8080/",
          "height": 424
        },
        "id": "NJNKaJi7Lo0l",
        "outputId": "53260441-cf61-490f-eaf0-87963eba7670"
      },
      "execution_count": null,
      "outputs": [
        {
          "output_type": "execute_result",
          "data": {
            "text/plain": [
              "           DATE    NEFT      MEDI     BIM     MMV      ALIM        DATA  \\\n",
              "0    2013-01-01 109.600 8,115.260 154.010  95.197 2,046.500  1356998400   \n",
              "1    2013-01-02 112.040 8,272.890 159.330  96.652 2,132.250  1357084800   \n",
              "2    2013-01-03 112.090 8,115.260 159.610  96.517 2,086.250  1357171200   \n",
              "3    2013-01-04 111.630 8,159.350 155.630  96.214 2,030.500  1357257600   \n",
              "4    2013-01-05 111.630 8,159.350 155.630  96.214 2,030.500  1357344000   \n",
              "...         ...     ...       ...     ...     ...       ...         ...   \n",
              "3754 2023-04-13  61.260 8,967.330  87.230 158.520 2,363.000  1681344000   \n",
              "3755 2023-04-14  61.450 9,094.110  87.140 159.370 2,390.000  1681430400   \n",
              "3756 2023-04-15  61.450 9,094.110  87.140 159.370 2,390.000  1681516800   \n",
              "3757 2023-04-16  61.450 9,065.440  87.140 159.370 2,390.000  1681603200   \n",
              "3758 2023-04-17  60.850 9,057.720  88.340 158.640 2,378.500  1681689600   \n",
              "\n",
              "      DATA_log  \n",
              "0       21.029  \n",
              "1       21.029  \n",
              "2       21.029  \n",
              "3       21.029  \n",
              "4       21.029  \n",
              "...        ...  \n",
              "3754    21.243  \n",
              "3755    21.243  \n",
              "3756    21.243  \n",
              "3757    21.243  \n",
              "3758    21.243  \n",
              "\n",
              "[3759 rows x 8 columns]"
            ],
            "text/html": [
              "\n",
              "  <div id=\"df-2102f436-4544-4c67-bc0b-901558d9d753\">\n",
              "    <div class=\"colab-df-container\">\n",
              "      <div>\n",
              "<style scoped>\n",
              "    .dataframe tbody tr th:only-of-type {\n",
              "        vertical-align: middle;\n",
              "    }\n",
              "\n",
              "    .dataframe tbody tr th {\n",
              "        vertical-align: top;\n",
              "    }\n",
              "\n",
              "    .dataframe thead th {\n",
              "        text-align: right;\n",
              "    }\n",
              "</style>\n",
              "<table border=\"1\" class=\"dataframe\">\n",
              "  <thead>\n",
              "    <tr style=\"text-align: right;\">\n",
              "      <th></th>\n",
              "      <th>DATE</th>\n",
              "      <th>NEFT</th>\n",
              "      <th>MEDI</th>\n",
              "      <th>BIM</th>\n",
              "      <th>MMV</th>\n",
              "      <th>ALIM</th>\n",
              "      <th>DATA</th>\n",
              "      <th>DATA_log</th>\n",
              "    </tr>\n",
              "  </thead>\n",
              "  <tbody>\n",
              "    <tr>\n",
              "      <th>0</th>\n",
              "      <td>2013-01-01</td>\n",
              "      <td>109.600</td>\n",
              "      <td>8,115.260</td>\n",
              "      <td>154.010</td>\n",
              "      <td>95.197</td>\n",
              "      <td>2,046.500</td>\n",
              "      <td>1356998400</td>\n",
              "      <td>21.029</td>\n",
              "    </tr>\n",
              "    <tr>\n",
              "      <th>1</th>\n",
              "      <td>2013-01-02</td>\n",
              "      <td>112.040</td>\n",
              "      <td>8,272.890</td>\n",
              "      <td>159.330</td>\n",
              "      <td>96.652</td>\n",
              "      <td>2,132.250</td>\n",
              "      <td>1357084800</td>\n",
              "      <td>21.029</td>\n",
              "    </tr>\n",
              "    <tr>\n",
              "      <th>2</th>\n",
              "      <td>2013-01-03</td>\n",
              "      <td>112.090</td>\n",
              "      <td>8,115.260</td>\n",
              "      <td>159.610</td>\n",
              "      <td>96.517</td>\n",
              "      <td>2,086.250</td>\n",
              "      <td>1357171200</td>\n",
              "      <td>21.029</td>\n",
              "    </tr>\n",
              "    <tr>\n",
              "      <th>3</th>\n",
              "      <td>2013-01-04</td>\n",
              "      <td>111.630</td>\n",
              "      <td>8,159.350</td>\n",
              "      <td>155.630</td>\n",
              "      <td>96.214</td>\n",
              "      <td>2,030.500</td>\n",
              "      <td>1357257600</td>\n",
              "      <td>21.029</td>\n",
              "    </tr>\n",
              "    <tr>\n",
              "      <th>4</th>\n",
              "      <td>2013-01-05</td>\n",
              "      <td>111.630</td>\n",
              "      <td>8,159.350</td>\n",
              "      <td>155.630</td>\n",
              "      <td>96.214</td>\n",
              "      <td>2,030.500</td>\n",
              "      <td>1357344000</td>\n",
              "      <td>21.029</td>\n",
              "    </tr>\n",
              "    <tr>\n",
              "      <th>...</th>\n",
              "      <td>...</td>\n",
              "      <td>...</td>\n",
              "      <td>...</td>\n",
              "      <td>...</td>\n",
              "      <td>...</td>\n",
              "      <td>...</td>\n",
              "      <td>...</td>\n",
              "      <td>...</td>\n",
              "    </tr>\n",
              "    <tr>\n",
              "      <th>3754</th>\n",
              "      <td>2023-04-13</td>\n",
              "      <td>61.260</td>\n",
              "      <td>8,967.330</td>\n",
              "      <td>87.230</td>\n",
              "      <td>158.520</td>\n",
              "      <td>2,363.000</td>\n",
              "      <td>1681344000</td>\n",
              "      <td>21.243</td>\n",
              "    </tr>\n",
              "    <tr>\n",
              "      <th>3755</th>\n",
              "      <td>2023-04-14</td>\n",
              "      <td>61.450</td>\n",
              "      <td>9,094.110</td>\n",
              "      <td>87.140</td>\n",
              "      <td>159.370</td>\n",
              "      <td>2,390.000</td>\n",
              "      <td>1681430400</td>\n",
              "      <td>21.243</td>\n",
              "    </tr>\n",
              "    <tr>\n",
              "      <th>3756</th>\n",
              "      <td>2023-04-15</td>\n",
              "      <td>61.450</td>\n",
              "      <td>9,094.110</td>\n",
              "      <td>87.140</td>\n",
              "      <td>159.370</td>\n",
              "      <td>2,390.000</td>\n",
              "      <td>1681516800</td>\n",
              "      <td>21.243</td>\n",
              "    </tr>\n",
              "    <tr>\n",
              "      <th>3757</th>\n",
              "      <td>2023-04-16</td>\n",
              "      <td>61.450</td>\n",
              "      <td>9,065.440</td>\n",
              "      <td>87.140</td>\n",
              "      <td>159.370</td>\n",
              "      <td>2,390.000</td>\n",
              "      <td>1681603200</td>\n",
              "      <td>21.243</td>\n",
              "    </tr>\n",
              "    <tr>\n",
              "      <th>3758</th>\n",
              "      <td>2023-04-17</td>\n",
              "      <td>60.850</td>\n",
              "      <td>9,057.720</td>\n",
              "      <td>88.340</td>\n",
              "      <td>158.640</td>\n",
              "      <td>2,378.500</td>\n",
              "      <td>1681689600</td>\n",
              "      <td>21.243</td>\n",
              "    </tr>\n",
              "  </tbody>\n",
              "</table>\n",
              "<p>3759 rows × 8 columns</p>\n",
              "</div>\n",
              "      <button class=\"colab-df-convert\" onclick=\"convertToInteractive('df-2102f436-4544-4c67-bc0b-901558d9d753')\"\n",
              "              title=\"Convert this dataframe to an interactive table.\"\n",
              "              style=\"display:none;\">\n",
              "        \n",
              "  <svg xmlns=\"http://www.w3.org/2000/svg\" height=\"24px\"viewBox=\"0 0 24 24\"\n",
              "       width=\"24px\">\n",
              "    <path d=\"M0 0h24v24H0V0z\" fill=\"none\"/>\n",
              "    <path d=\"M18.56 5.44l.94 2.06.94-2.06 2.06-.94-2.06-.94-.94-2.06-.94 2.06-2.06.94zm-11 1L8.5 8.5l.94-2.06 2.06-.94-2.06-.94L8.5 2.5l-.94 2.06-2.06.94zm10 10l.94 2.06.94-2.06 2.06-.94-2.06-.94-.94-2.06-.94 2.06-2.06.94z\"/><path d=\"M17.41 7.96l-1.37-1.37c-.4-.4-.92-.59-1.43-.59-.52 0-1.04.2-1.43.59L10.3 9.45l-7.72 7.72c-.78.78-.78 2.05 0 2.83L4 21.41c.39.39.9.59 1.41.59.51 0 1.02-.2 1.41-.59l7.78-7.78 2.81-2.81c.8-.78.8-2.07 0-2.86zM5.41 20L4 18.59l7.72-7.72 1.47 1.35L5.41 20z\"/>\n",
              "  </svg>\n",
              "      </button>\n",
              "      \n",
              "  <style>\n",
              "    .colab-df-container {\n",
              "      display:flex;\n",
              "      flex-wrap:wrap;\n",
              "      gap: 12px;\n",
              "    }\n",
              "\n",
              "    .colab-df-convert {\n",
              "      background-color: #E8F0FE;\n",
              "      border: none;\n",
              "      border-radius: 50%;\n",
              "      cursor: pointer;\n",
              "      display: none;\n",
              "      fill: #1967D2;\n",
              "      height: 32px;\n",
              "      padding: 0 0 0 0;\n",
              "      width: 32px;\n",
              "    }\n",
              "\n",
              "    .colab-df-convert:hover {\n",
              "      background-color: #E2EBFA;\n",
              "      box-shadow: 0px 1px 2px rgba(60, 64, 67, 0.3), 0px 1px 3px 1px rgba(60, 64, 67, 0.15);\n",
              "      fill: #174EA6;\n",
              "    }\n",
              "\n",
              "    [theme=dark] .colab-df-convert {\n",
              "      background-color: #3B4455;\n",
              "      fill: #D2E3FC;\n",
              "    }\n",
              "\n",
              "    [theme=dark] .colab-df-convert:hover {\n",
              "      background-color: #434B5C;\n",
              "      box-shadow: 0px 1px 3px 1px rgba(0, 0, 0, 0.15);\n",
              "      filter: drop-shadow(0px 1px 2px rgba(0, 0, 0, 0.3));\n",
              "      fill: #FFFFFF;\n",
              "    }\n",
              "  </style>\n",
              "\n",
              "      <script>\n",
              "        const buttonEl =\n",
              "          document.querySelector('#df-2102f436-4544-4c67-bc0b-901558d9d753 button.colab-df-convert');\n",
              "        buttonEl.style.display =\n",
              "          google.colab.kernel.accessAllowed ? 'block' : 'none';\n",
              "\n",
              "        async function convertToInteractive(key) {\n",
              "          const element = document.querySelector('#df-2102f436-4544-4c67-bc0b-901558d9d753');\n",
              "          const dataTable =\n",
              "            await google.colab.kernel.invokeFunction('convertToInteractive',\n",
              "                                                     [key], {});\n",
              "          if (!dataTable) return;\n",
              "\n",
              "          const docLinkHtml = 'Like what you see? Visit the ' +\n",
              "            '<a target=\"_blank\" href=https://colab.research.google.com/notebooks/data_table.ipynb>data table notebook</a>'\n",
              "            + ' to learn more about interactive tables.';\n",
              "          element.innerHTML = '';\n",
              "          dataTable['output_type'] = 'display_data';\n",
              "          await google.colab.output.renderOutput(dataTable, element);\n",
              "          const docLink = document.createElement('div');\n",
              "          docLink.innerHTML = docLinkHtml;\n",
              "          element.appendChild(docLink);\n",
              "        }\n",
              "      </script>\n",
              "    </div>\n",
              "  </div>\n",
              "  "
            ]
          },
          "metadata": {},
          "execution_count": 34
        }
      ]
    },
    {
      "cell_type": "code",
      "source": [
        "#Преобразования Сереги\n",
        "POLN['DATE'] = pd.to_datetime(POLN['DATE'])\n",
        "\n",
        "year = []\n",
        "month = []\n",
        "day = []\n",
        "for i in range(len(POLN)):\n",
        "  split_i = str(POLN['DATE'][i]).split()[0].split('-')\n",
        "  year.append(int(split_i[0]))\n",
        "  month.append(int(split_i[1]))\n",
        "  day.append(int(split_i[2]))\n",
        "\n",
        "\n",
        "POLN['year'] = year\n",
        "POLN['month'] = month\n",
        "POLN['day'] = day\n",
        "\n",
        "# Cоздание признака \"количество дней до конца квартала\":\n",
        "POLN['days_to_end_of_quarter'] = (pd.to_datetime(POLN['DATE'].dt.year.astype(str) + '-' + (((POLN['DATE'].dt.month - 1) // 3 + 1) * 3).astype(str) + '-01') + pd.DateOffset(months=3) - pd.DateOffset(days=1) - POLN['DATE']).dt.days\n",
        "\n",
        "# Создание признака \"количество дней до конца года\":\n",
        "POLN['days_to_end_of_year'] = (pd.to_datetime(POLN['DATE'].dt.year.astype(str) + '-12-31') - POLN['DATE']).dt.days\n",
        "\n",
        "POLN['Weekday'] = POLN['DATE'].dt.weekday\n",
        "POLN"
      ],
      "metadata": {
        "colab": {
          "base_uri": "https://localhost:8080/",
          "height": 661
        },
        "id": "fIWPEBV_tPIb",
        "outputId": "70f0b7d6-e746-4fe1-b6d0-914db3ac9e65"
      },
      "execution_count": null,
      "outputs": [
        {
          "output_type": "execute_result",
          "data": {
            "text/plain": [
              "           DATE    NEFT      MEDI     BIM     MMV      ALIM        DATA  \\\n",
              "0    2013-01-01 109.600 8,115.260 154.010  95.197 2,046.500  1356998400   \n",
              "1    2013-01-02 112.040 8,272.890 159.330  96.652 2,132.250  1357084800   \n",
              "2    2013-01-03 112.090 8,115.260 159.610  96.517 2,086.250  1357171200   \n",
              "3    2013-01-04 111.630 8,159.350 155.630  96.214 2,030.500  1357257600   \n",
              "4    2013-01-05 111.630 8,159.350 155.630  96.214 2,030.500  1357344000   \n",
              "...         ...     ...       ...     ...     ...       ...         ...   \n",
              "3754 2023-04-13  61.260 8,967.330  87.230 158.520 2,363.000  1681344000   \n",
              "3755 2023-04-14  61.450 9,094.110  87.140 159.370 2,390.000  1681430400   \n",
              "3756 2023-04-15  61.450 9,094.110  87.140 159.370 2,390.000  1681516800   \n",
              "3757 2023-04-16  61.450 9,065.440  87.140 159.370 2,390.000  1681603200   \n",
              "3758 2023-04-17  60.850 9,057.720  88.340 158.640 2,378.500  1681689600   \n",
              "\n",
              "      DATA_log  year  month  day  days_to_end_of_quarter  days_to_end_of_year  \\\n",
              "0       21.029  2013      1    1                     150                  364   \n",
              "1       21.029  2013      1    2                     149                  363   \n",
              "2       21.029  2013      1    3                     148                  362   \n",
              "3       21.029  2013      1    4                     147                  361   \n",
              "4       21.029  2013      1    5                     146                  360   \n",
              "...        ...   ...    ...  ...                     ...                  ...   \n",
              "3754    21.243  2023      4   13                     140                  262   \n",
              "3755    21.243  2023      4   14                     139                  261   \n",
              "3756    21.243  2023      4   15                     138                  260   \n",
              "3757    21.243  2023      4   16                     137                  259   \n",
              "3758    21.243  2023      4   17                     136                  258   \n",
              "\n",
              "      Weekday  \n",
              "0           1  \n",
              "1           2  \n",
              "2           3  \n",
              "3           4  \n",
              "4           5  \n",
              "...       ...  \n",
              "3754        3  \n",
              "3755        4  \n",
              "3756        5  \n",
              "3757        6  \n",
              "3758        0  \n",
              "\n",
              "[3759 rows x 14 columns]"
            ],
            "text/html": [
              "\n",
              "  <div id=\"df-5821fb52-8d5e-4700-a8a4-54461ad7510a\">\n",
              "    <div class=\"colab-df-container\">\n",
              "      <div>\n",
              "<style scoped>\n",
              "    .dataframe tbody tr th:only-of-type {\n",
              "        vertical-align: middle;\n",
              "    }\n",
              "\n",
              "    .dataframe tbody tr th {\n",
              "        vertical-align: top;\n",
              "    }\n",
              "\n",
              "    .dataframe thead th {\n",
              "        text-align: right;\n",
              "    }\n",
              "</style>\n",
              "<table border=\"1\" class=\"dataframe\">\n",
              "  <thead>\n",
              "    <tr style=\"text-align: right;\">\n",
              "      <th></th>\n",
              "      <th>DATE</th>\n",
              "      <th>NEFT</th>\n",
              "      <th>MEDI</th>\n",
              "      <th>BIM</th>\n",
              "      <th>MMV</th>\n",
              "      <th>ALIM</th>\n",
              "      <th>DATA</th>\n",
              "      <th>DATA_log</th>\n",
              "      <th>year</th>\n",
              "      <th>month</th>\n",
              "      <th>day</th>\n",
              "      <th>days_to_end_of_quarter</th>\n",
              "      <th>days_to_end_of_year</th>\n",
              "      <th>Weekday</th>\n",
              "    </tr>\n",
              "  </thead>\n",
              "  <tbody>\n",
              "    <tr>\n",
              "      <th>0</th>\n",
              "      <td>2013-01-01</td>\n",
              "      <td>109.600</td>\n",
              "      <td>8,115.260</td>\n",
              "      <td>154.010</td>\n",
              "      <td>95.197</td>\n",
              "      <td>2,046.500</td>\n",
              "      <td>1356998400</td>\n",
              "      <td>21.029</td>\n",
              "      <td>2013</td>\n",
              "      <td>1</td>\n",
              "      <td>1</td>\n",
              "      <td>150</td>\n",
              "      <td>364</td>\n",
              "      <td>1</td>\n",
              "    </tr>\n",
              "    <tr>\n",
              "      <th>1</th>\n",
              "      <td>2013-01-02</td>\n",
              "      <td>112.040</td>\n",
              "      <td>8,272.890</td>\n",
              "      <td>159.330</td>\n",
              "      <td>96.652</td>\n",
              "      <td>2,132.250</td>\n",
              "      <td>1357084800</td>\n",
              "      <td>21.029</td>\n",
              "      <td>2013</td>\n",
              "      <td>1</td>\n",
              "      <td>2</td>\n",
              "      <td>149</td>\n",
              "      <td>363</td>\n",
              "      <td>2</td>\n",
              "    </tr>\n",
              "    <tr>\n",
              "      <th>2</th>\n",
              "      <td>2013-01-03</td>\n",
              "      <td>112.090</td>\n",
              "      <td>8,115.260</td>\n",
              "      <td>159.610</td>\n",
              "      <td>96.517</td>\n",
              "      <td>2,086.250</td>\n",
              "      <td>1357171200</td>\n",
              "      <td>21.029</td>\n",
              "      <td>2013</td>\n",
              "      <td>1</td>\n",
              "      <td>3</td>\n",
              "      <td>148</td>\n",
              "      <td>362</td>\n",
              "      <td>3</td>\n",
              "    </tr>\n",
              "    <tr>\n",
              "      <th>3</th>\n",
              "      <td>2013-01-04</td>\n",
              "      <td>111.630</td>\n",
              "      <td>8,159.350</td>\n",
              "      <td>155.630</td>\n",
              "      <td>96.214</td>\n",
              "      <td>2,030.500</td>\n",
              "      <td>1357257600</td>\n",
              "      <td>21.029</td>\n",
              "      <td>2013</td>\n",
              "      <td>1</td>\n",
              "      <td>4</td>\n",
              "      <td>147</td>\n",
              "      <td>361</td>\n",
              "      <td>4</td>\n",
              "    </tr>\n",
              "    <tr>\n",
              "      <th>4</th>\n",
              "      <td>2013-01-05</td>\n",
              "      <td>111.630</td>\n",
              "      <td>8,159.350</td>\n",
              "      <td>155.630</td>\n",
              "      <td>96.214</td>\n",
              "      <td>2,030.500</td>\n",
              "      <td>1357344000</td>\n",
              "      <td>21.029</td>\n",
              "      <td>2013</td>\n",
              "      <td>1</td>\n",
              "      <td>5</td>\n",
              "      <td>146</td>\n",
              "      <td>360</td>\n",
              "      <td>5</td>\n",
              "    </tr>\n",
              "    <tr>\n",
              "      <th>...</th>\n",
              "      <td>...</td>\n",
              "      <td>...</td>\n",
              "      <td>...</td>\n",
              "      <td>...</td>\n",
              "      <td>...</td>\n",
              "      <td>...</td>\n",
              "      <td>...</td>\n",
              "      <td>...</td>\n",
              "      <td>...</td>\n",
              "      <td>...</td>\n",
              "      <td>...</td>\n",
              "      <td>...</td>\n",
              "      <td>...</td>\n",
              "      <td>...</td>\n",
              "    </tr>\n",
              "    <tr>\n",
              "      <th>3754</th>\n",
              "      <td>2023-04-13</td>\n",
              "      <td>61.260</td>\n",
              "      <td>8,967.330</td>\n",
              "      <td>87.230</td>\n",
              "      <td>158.520</td>\n",
              "      <td>2,363.000</td>\n",
              "      <td>1681344000</td>\n",
              "      <td>21.243</td>\n",
              "      <td>2023</td>\n",
              "      <td>4</td>\n",
              "      <td>13</td>\n",
              "      <td>140</td>\n",
              "      <td>262</td>\n",
              "      <td>3</td>\n",
              "    </tr>\n",
              "    <tr>\n",
              "      <th>3755</th>\n",
              "      <td>2023-04-14</td>\n",
              "      <td>61.450</td>\n",
              "      <td>9,094.110</td>\n",
              "      <td>87.140</td>\n",
              "      <td>159.370</td>\n",
              "      <td>2,390.000</td>\n",
              "      <td>1681430400</td>\n",
              "      <td>21.243</td>\n",
              "      <td>2023</td>\n",
              "      <td>4</td>\n",
              "      <td>14</td>\n",
              "      <td>139</td>\n",
              "      <td>261</td>\n",
              "      <td>4</td>\n",
              "    </tr>\n",
              "    <tr>\n",
              "      <th>3756</th>\n",
              "      <td>2023-04-15</td>\n",
              "      <td>61.450</td>\n",
              "      <td>9,094.110</td>\n",
              "      <td>87.140</td>\n",
              "      <td>159.370</td>\n",
              "      <td>2,390.000</td>\n",
              "      <td>1681516800</td>\n",
              "      <td>21.243</td>\n",
              "      <td>2023</td>\n",
              "      <td>4</td>\n",
              "      <td>15</td>\n",
              "      <td>138</td>\n",
              "      <td>260</td>\n",
              "      <td>5</td>\n",
              "    </tr>\n",
              "    <tr>\n",
              "      <th>3757</th>\n",
              "      <td>2023-04-16</td>\n",
              "      <td>61.450</td>\n",
              "      <td>9,065.440</td>\n",
              "      <td>87.140</td>\n",
              "      <td>159.370</td>\n",
              "      <td>2,390.000</td>\n",
              "      <td>1681603200</td>\n",
              "      <td>21.243</td>\n",
              "      <td>2023</td>\n",
              "      <td>4</td>\n",
              "      <td>16</td>\n",
              "      <td>137</td>\n",
              "      <td>259</td>\n",
              "      <td>6</td>\n",
              "    </tr>\n",
              "    <tr>\n",
              "      <th>3758</th>\n",
              "      <td>2023-04-17</td>\n",
              "      <td>60.850</td>\n",
              "      <td>9,057.720</td>\n",
              "      <td>88.340</td>\n",
              "      <td>158.640</td>\n",
              "      <td>2,378.500</td>\n",
              "      <td>1681689600</td>\n",
              "      <td>21.243</td>\n",
              "      <td>2023</td>\n",
              "      <td>4</td>\n",
              "      <td>17</td>\n",
              "      <td>136</td>\n",
              "      <td>258</td>\n",
              "      <td>0</td>\n",
              "    </tr>\n",
              "  </tbody>\n",
              "</table>\n",
              "<p>3759 rows × 14 columns</p>\n",
              "</div>\n",
              "      <button class=\"colab-df-convert\" onclick=\"convertToInteractive('df-5821fb52-8d5e-4700-a8a4-54461ad7510a')\"\n",
              "              title=\"Convert this dataframe to an interactive table.\"\n",
              "              style=\"display:none;\">\n",
              "        \n",
              "  <svg xmlns=\"http://www.w3.org/2000/svg\" height=\"24px\"viewBox=\"0 0 24 24\"\n",
              "       width=\"24px\">\n",
              "    <path d=\"M0 0h24v24H0V0z\" fill=\"none\"/>\n",
              "    <path d=\"M18.56 5.44l.94 2.06.94-2.06 2.06-.94-2.06-.94-.94-2.06-.94 2.06-2.06.94zm-11 1L8.5 8.5l.94-2.06 2.06-.94-2.06-.94L8.5 2.5l-.94 2.06-2.06.94zm10 10l.94 2.06.94-2.06 2.06-.94-2.06-.94-.94-2.06-.94 2.06-2.06.94z\"/><path d=\"M17.41 7.96l-1.37-1.37c-.4-.4-.92-.59-1.43-.59-.52 0-1.04.2-1.43.59L10.3 9.45l-7.72 7.72c-.78.78-.78 2.05 0 2.83L4 21.41c.39.39.9.59 1.41.59.51 0 1.02-.2 1.41-.59l7.78-7.78 2.81-2.81c.8-.78.8-2.07 0-2.86zM5.41 20L4 18.59l7.72-7.72 1.47 1.35L5.41 20z\"/>\n",
              "  </svg>\n",
              "      </button>\n",
              "      \n",
              "  <style>\n",
              "    .colab-df-container {\n",
              "      display:flex;\n",
              "      flex-wrap:wrap;\n",
              "      gap: 12px;\n",
              "    }\n",
              "\n",
              "    .colab-df-convert {\n",
              "      background-color: #E8F0FE;\n",
              "      border: none;\n",
              "      border-radius: 50%;\n",
              "      cursor: pointer;\n",
              "      display: none;\n",
              "      fill: #1967D2;\n",
              "      height: 32px;\n",
              "      padding: 0 0 0 0;\n",
              "      width: 32px;\n",
              "    }\n",
              "\n",
              "    .colab-df-convert:hover {\n",
              "      background-color: #E2EBFA;\n",
              "      box-shadow: 0px 1px 2px rgba(60, 64, 67, 0.3), 0px 1px 3px 1px rgba(60, 64, 67, 0.15);\n",
              "      fill: #174EA6;\n",
              "    }\n",
              "\n",
              "    [theme=dark] .colab-df-convert {\n",
              "      background-color: #3B4455;\n",
              "      fill: #D2E3FC;\n",
              "    }\n",
              "\n",
              "    [theme=dark] .colab-df-convert:hover {\n",
              "      background-color: #434B5C;\n",
              "      box-shadow: 0px 1px 3px 1px rgba(0, 0, 0, 0.15);\n",
              "      filter: drop-shadow(0px 1px 2px rgba(0, 0, 0, 0.3));\n",
              "      fill: #FFFFFF;\n",
              "    }\n",
              "  </style>\n",
              "\n",
              "      <script>\n",
              "        const buttonEl =\n",
              "          document.querySelector('#df-5821fb52-8d5e-4700-a8a4-54461ad7510a button.colab-df-convert');\n",
              "        buttonEl.style.display =\n",
              "          google.colab.kernel.accessAllowed ? 'block' : 'none';\n",
              "\n",
              "        async function convertToInteractive(key) {\n",
              "          const element = document.querySelector('#df-5821fb52-8d5e-4700-a8a4-54461ad7510a');\n",
              "          const dataTable =\n",
              "            await google.colab.kernel.invokeFunction('convertToInteractive',\n",
              "                                                     [key], {});\n",
              "          if (!dataTable) return;\n",
              "\n",
              "          const docLinkHtml = 'Like what you see? Visit the ' +\n",
              "            '<a target=\"_blank\" href=https://colab.research.google.com/notebooks/data_table.ipynb>data table notebook</a>'\n",
              "            + ' to learn more about interactive tables.';\n",
              "          element.innerHTML = '';\n",
              "          dataTable['output_type'] = 'display_data';\n",
              "          await google.colab.output.renderOutput(dataTable, element);\n",
              "          const docLink = document.createElement('div');\n",
              "          docLink.innerHTML = docLinkHtml;\n",
              "          element.appendChild(docLink);\n",
              "        }\n",
              "      </script>\n",
              "    </div>\n",
              "  </div>\n",
              "  "
            ]
          },
          "metadata": {},
          "execution_count": 35
        }
      ]
    },
    {
      "cell_type": "markdown",
      "source": [
        "МЕДЬ ПРОГНОЗ - МОЛОДЕЦ 0,99"
      ],
      "metadata": {
        "id": "bhb9uIVl3tje"
      }
    },
    {
      "cell_type": "code",
      "source": [
        "#разбиваем на выборку\n",
        "XK = POLN[['DATA',\t'DATA_log',\t'year',\t'month',\t'day', 'days_to_end_of_quarter',\t'days_to_end_of_year', 'Weekday']]\n",
        "yK = POLN['MEDI']"
      ],
      "metadata": {
        "id": "AGkkH3Fy3Z9Y"
      },
      "execution_count": null,
      "outputs": []
    },
    {
      "cell_type": "code",
      "source": [
        "XK_train, XK_test, yK_train, yK_test = train_test_split(XK, yK, test_size=0.3, random_state=40)"
      ],
      "metadata": {
        "id": "y43KajnY4fNr"
      },
      "execution_count": null,
      "outputs": []
    },
    {
      "cell_type": "code",
      "source": [
        "# поиск параметрво для градиентного бустинга\n",
        "random_seed2 = 70\n",
        "params2 = find_best_params(XK_train, yK_train, random_seed2)"
      ],
      "metadata": {
        "id": "FuAA2-xE4tn2"
      },
      "execution_count": null,
      "outputs": []
    },
    {
      "cell_type": "code",
      "source": [
        "params2 = {'learning_rate': 0.35, 'max_depth': 4, 'n_estimators': 190, 'random_state': 70}\n",
        "modelK = GradientBoostingRegressor(**params2)\n",
        "modelK.fit(XK_train, yK_train)\n",
        "yK_pred = modelK.predict(XK_test)"
      ],
      "metadata": {
        "id": "8-DaB2M549nT"
      },
      "execution_count": null,
      "outputs": []
    },
    {
      "cell_type": "code",
      "source": [
        "title = 'Прогноз'\n",
        "my_result(yK_test, yK_pred, title)"
      ],
      "metadata": {
        "id": "DvV3FIAK5Hkq",
        "colab": {
          "base_uri": "https://localhost:8080/",
          "height": 524
        },
        "outputId": "ab47ac5f-e07b-406a-b6fe-c899a820994d"
      },
      "execution_count": null,
      "outputs": [
        {
          "output_type": "stream",
          "name": "stdout",
          "text": [
            "R^2 score: 0.9967063609274979\n",
            "MSE на тестовой выборке: 11988.046226435186\n",
            "RMSE на тестовой выборке: 109.48993664458477\n"
          ]
        },
        {
          "output_type": "display_data",
          "data": {
            "text/plain": [
              "<Figure size 640x480 with 1 Axes>"
            ],
            "image/png": "[encoded data removed]"
          },
          "metadata": {}
        }
      ]
    },
    {
      "cell_type": "code",
      "source": [
        "#прогноз меди\n",
        "y_future_MED = modelK.predict(pd.read_excel(\"predict.xlsx\"))"
      ],
      "metadata": {
        "id": "j3Fpsm84SoFn"
      },
      "execution_count": null,
      "outputs": []
    },
    {
      "cell_type": "code",
      "source": [
        "pd.DataFrame(y_future_MED).to_excel('prognos_MED.xlsx')"
      ],
      "metadata": {
        "id": "OS2B2DuM7fkn"
      },
      "execution_count": null,
      "outputs": []
    },
    {
      "cell_type": "markdown",
      "source": [
        "BIM МОЛОДЕЦ 0.99"
      ],
      "metadata": {
        "id": "XQZtalHVNI4s"
      }
    },
    {
      "cell_type": "code",
      "source": [
        "#разбиваем на выборку\n",
        "XB = POLN[['DATA',\t'DATA_log',\t'year',\t'month',\t'day', 'days_to_end_of_quarter',\t'days_to_end_of_year', 'Weekday']]\n",
        "yB = POLN['BIM']"
      ],
      "metadata": {
        "id": "mRiGUcbcSzSR"
      },
      "execution_count": null,
      "outputs": []
    },
    {
      "cell_type": "code",
      "source": [
        "XB_train, XB_test, yB_train, yB_test = train_test_split(XB, yB, test_size=0.3, random_state=40)"
      ],
      "metadata": {
        "id": "2txGi0PmSzOW"
      },
      "execution_count": null,
      "outputs": []
    },
    {
      "cell_type": "code",
      "source": [
        "# поиск параметрво для градиентного бустинга\n",
        "random_seed3 = 70\n",
        "params3 = find_best_params(XB_train, yB_train, random_seed3)\n"
      ],
      "metadata": {
        "id": "cK_l_SJrSzKe"
      },
      "execution_count": null,
      "outputs": []
    },
    {
      "cell_type": "code",
      "source": [
        "params3 = {'learning_rate': 0.25, 'max_depth': 4, 'n_estimators': 190, 'random_state': 70}\n",
        "modelB = GradientBoostingRegressor(**params3)\n",
        "modelB.fit(XB_train, yB_train)\n",
        "yB_pred = modelB.predict(XB_test)"
      ],
      "metadata": {
        "id": "szd3PzloSzAr"
      },
      "execution_count": null,
      "outputs": []
    },
    {
      "cell_type": "code",
      "source": [
        "title = 'Прогноз'\n",
        "my_result(yB_test, yB_pred, title)"
      ],
      "metadata": {
        "colab": {
          "base_uri": "https://localhost:8080/",
          "height": 524
        },
        "id": "C5Q_ylaASyzc",
        "outputId": "b1d2fc32-1ab7-4833-9b93-7f875943ebbd"
      },
      "execution_count": null,
      "outputs": [
        {
          "output_type": "stream",
          "name": "stdout",
          "text": [
            "R^2 score: 0.9967101363146859\n",
            "MSE на тестовой выборке: 2.169713716839645\n",
            "RMSE на тестовой выборке: 1.472994812224281\n"
          ]
        },
        {
          "output_type": "display_data",
          "data": {
            "text/plain": [
              "<Figure size 640x480 with 1 Axes>"
            ],
            "image/png": "[encoded data removed]"
          },
          "metadata": {}
        }
      ]
    },
    {
      "cell_type": "code",
      "source": [
        "#прогноз BIM\n",
        "y_future_BIM = modelB.predict(pd.read_excel(\"predict.xlsx\"))"
      ],
      "metadata": {
        "id": "wcG3mbzAXMiW"
      },
      "execution_count": null,
      "outputs": []
    },
    {
      "cell_type": "code",
      "source": [
        "pd.DataFrame(y_future_BIM).to_excel('prognos_BIM.xlsx')"
      ],
      "metadata": {
        "id": "7GnPyT2t8P_R"
      },
      "execution_count": null,
      "outputs": []
    },
    {
      "cell_type": "markdown",
      "source": [
        "MMV 0.99"
      ],
      "metadata": {
        "id": "Weeewa0AXPUc"
      }
    },
    {
      "cell_type": "code",
      "source": [
        "#разбиваем на выборку\n",
        "XM = POLN[['DATA',\t'DATA_log',\t'year',\t'month',\t'day', 'days_to_end_of_quarter',\t'days_to_end_of_year', 'Weekday']]\n",
        "yM = POLN['MMV']"
      ],
      "metadata": {
        "id": "clJRlyV3XSTV"
      },
      "execution_count": null,
      "outputs": []
    },
    {
      "cell_type": "code",
      "source": [
        "XM_train, XM_test, yM_train, yM_test = train_test_split(XM, yM, test_size=0.3, random_state=40)"
      ],
      "metadata": {
        "id": "-5HMlESHXTi8"
      },
      "execution_count": null,
      "outputs": []
    },
    {
      "cell_type": "code",
      "source": [
        "# поиск параметрво для градиентного бустинга\n",
        "random_seed4 = 70\n",
        "params4 = find_best_params(XM_train, yM_train, random_seed4)\n"
      ],
      "metadata": {
        "id": "5NhTO-fGXTA-"
      },
      "execution_count": null,
      "outputs": []
    },
    {
      "cell_type": "code",
      "source": [
        "params4 = {'learning_rate': 0.35, 'max_depth': 4, 'n_estimators': 190, 'random_state': 70}\n",
        "modelM = GradientBoostingRegressor(**params4)\n",
        "modelM.fit(XM_train, yM_train)\n",
        "yM_pred = modelM.predict(XM_test)"
      ],
      "metadata": {
        "id": "WT4RFTxkXS50"
      },
      "execution_count": null,
      "outputs": []
    },
    {
      "cell_type": "code",
      "source": [
        "title = 'Прогноз'\n",
        "my_result(yM_test, yM_pred, title)"
      ],
      "metadata": {
        "colab": {
          "base_uri": "https://localhost:8080/",
          "height": 524
        },
        "id": "JCDqQ79-XS2m",
        "outputId": "ad946683-5200-4025-e820-0652c2bdc9a8"
      },
      "execution_count": null,
      "outputs": [
        {
          "output_type": "stream",
          "name": "stdout",
          "text": [
            "R^2 score: 0.9954900426702821\n",
            "MSE на тестовой выборке: 3.5834552846331267\n",
            "RMSE на тестовой выборке: 1.893001659965761\n"
          ]
        },
        {
          "output_type": "display_data",
          "data": {
            "text/plain": [
              "<Figure size 640x480 with 1 Axes>"
            ],
            "image/png": "[encoded data removed]"
          },
          "metadata": {}
        }
      ]
    },
    {
      "cell_type": "code",
      "source": [
        "#прогноз MMV\n",
        "y_future_MMV = modelM.predict(pd.read_excel(\"predict.xlsx\"))"
      ],
      "metadata": {
        "id": "WLCk8ODwXSyF"
      },
      "execution_count": null,
      "outputs": []
    },
    {
      "cell_type": "code",
      "source": [
        "pd.DataFrame(y_future_MMV).to_excel('prognos_MMV.xlsx')"
      ],
      "metadata": {
        "id": "uAu_W5TV8o3w"
      },
      "execution_count": null,
      "outputs": []
    },
    {
      "cell_type": "markdown",
      "source": [
        "АЛЮМИНИЙ"
      ],
      "metadata": {
        "id": "HvvkKVuo9E3F"
      }
    },
    {
      "cell_type": "code",
      "source": [
        "#разбиваем на выборку\n",
        "XA = POLN[['DATA',\t'DATA_log',\t'year',\t'month',\t'day', 'days_to_end_of_quarter',\t'days_to_end_of_year', 'Weekday']]\n",
        "yA = POLN['ALIM']"
      ],
      "metadata": {
        "id": "AcoAMszH9Gnc"
      },
      "execution_count": null,
      "outputs": []
    },
    {
      "cell_type": "code",
      "source": [
        "XA_train, XA_test, yA_train, yA_test = train_test_split(XA, yA, test_size=0.3, random_state=40)"
      ],
      "metadata": {
        "id": "WjBus4aY9RZL"
      },
      "execution_count": null,
      "outputs": []
    },
    {
      "cell_type": "code",
      "source": [
        "# поиск параметрво для градиентного бустинга\n",
        "random_seed5 = 70\n",
        "params5 = find_best_params(XA_train, yA_train, random_seed5)"
      ],
      "metadata": {
        "id": "NQOFEinv9Zm-"
      },
      "execution_count": null,
      "outputs": []
    },
    {
      "cell_type": "code",
      "source": [
        "params5 = {'learning_rate': 0.35, 'max_depth': 4, 'n_estimators': 190, 'random_state': 70}\n",
        "modelA = GradientBoostingRegressor(**params5)\n",
        "modelA.fit(XM_train, yM_train)\n",
        "yM_pred = modelM.predict(XM_test)"
      ],
      "metadata": {
        "id": "M-yw-8dz9iZc"
      },
      "execution_count": null,
      "outputs": []
    },
    {
      "cell_type": "code",
      "source": [
        "title = 'Прогноз'\n",
        "my_result(yM_test, yM_pred, title)"
      ],
      "metadata": {
        "id": "Fi2yVG3E9h_n"
      },
      "execution_count": null,
      "outputs": []
    },
    {
      "cell_type": "markdown",
      "source": [
        "ОБЩАЯ ТАБЛИЦА СО ВСЕМИ ПАРАМЕТРАМИ НА ПОЛГОДА"
      ],
      "metadata": {
        "id": "eWm0i35Vu87Q"
      }
    },
    {
      "cell_type": "code",
      "source": [],
      "metadata": {
        "id": "gBJkYipIvHvO"
      },
      "execution_count": null,
      "outputs": []
    }
  ],
  "metadata": {
    "colab": {
      "provenance": [],
      "include_colab_link": true
    },
    "kernelspec": {
      "display_name": "Python 3",
      "name": "python3"
    },
    "language_info": {
      "name": "python"
    }
  },
  "nbformat": 4,
  "nbformat_minor": 0
}